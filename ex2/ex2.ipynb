{
 "cells": [
  {
   "cell_type": "markdown",
   "metadata": {},
   "source": [
    "データサイエンス特論授業課題第2回\n",
    "作成日: 2022年6月25日\n",
    "作成者: M1 203324 紺谷優志\n",
    "\n",
    "IRISのデータに対し、平均と共分散行列を求め、ランダムに選んだ2つのデータのユークリッド距離とマハラノビス距離を求める。"
   ]
  },
  {
   "cell_type": "code",
   "execution_count": 53,
   "metadata": {},
   "outputs": [],
   "source": [
    "import matplotlib.pyplot as plt\n",
    "import pandas as pd\n",
    "import numpy as np\n",
    "import random\n",
    "from scipy.spatial.distance import cdist \n",
    "from sklearn.datasets import load_iris  # irisデータセットをロード\n",
    "\n",
    "iris = load_iris()\n",
    "df = pd.DataFrame(iris.data, columns=iris.feature_names) #irisデータをpandasに変換"
   ]
  },
  {
   "cell_type": "code",
   "execution_count": 46,
   "metadata": {},
   "outputs": [
    {
     "data": {
      "text/plain": [
       "0         setosa\n",
       "1         setosa\n",
       "2         setosa\n",
       "3         setosa\n",
       "4         setosa\n",
       "         ...    \n",
       "145    virginica\n",
       "146    virginica\n",
       "147    virginica\n",
       "148    virginica\n",
       "149    virginica\n",
       "Length: 150, dtype: object"
      ]
     },
     "execution_count": 46,
     "metadata": {},
     "output_type": "execute_result"
    }
   ],
   "source": [
    "# ラベル名を別のDataFrameで管理\n",
    "label=pd.Series(data=iris.target_names[iris.target])\n",
    "label"
   ]
  },
  {
   "cell_type": "code",
   "execution_count": 181,
   "metadata": {},
   "outputs": [
    {
     "name": "stdout",
     "output_type": "stream",
     "text": [
      "平均値=[5.84333333 3.05733333 3.758      1.19933333]\n"
     ]
    }
   ],
   "source": [
    "# 平均となる４次元ベクトル\n",
    "mu = np.zeros(len(df.columns.values))\n",
    "for i, col in enumerate(df.columns.values):\n",
    "    mu[i]=df[col].mean()\n",
    "print(\"平均値={0}\".format(mu))"
   ]
  },
  {
   "cell_type": "code",
   "execution_count": 182,
   "metadata": {},
   "outputs": [
    {
     "data": {
      "text/html": [
       "<div>\n",
       "<style scoped>\n",
       "    .dataframe tbody tr th:only-of-type {\n",
       "        vertical-align: middle;\n",
       "    }\n",
       "\n",
       "    .dataframe tbody tr th {\n",
       "        vertical-align: top;\n",
       "    }\n",
       "\n",
       "    .dataframe thead th {\n",
       "        text-align: right;\n",
       "    }\n",
       "</style>\n",
       "<table border=\"1\" class=\"dataframe\">\n",
       "  <thead>\n",
       "    <tr style=\"text-align: right;\">\n",
       "      <th></th>\n",
       "      <th>sepal length (cm)</th>\n",
       "      <th>sepal width (cm)</th>\n",
       "      <th>petal length (cm)</th>\n",
       "      <th>petal width (cm)</th>\n",
       "    </tr>\n",
       "  </thead>\n",
       "  <tbody>\n",
       "    <tr>\n",
       "      <th>sepal length (cm)</th>\n",
       "      <td>0.685694</td>\n",
       "      <td>-0.042434</td>\n",
       "      <td>1.274315</td>\n",
       "      <td>0.516271</td>\n",
       "    </tr>\n",
       "    <tr>\n",
       "      <th>sepal width (cm)</th>\n",
       "      <td>-0.042434</td>\n",
       "      <td>0.189979</td>\n",
       "      <td>-0.329656</td>\n",
       "      <td>-0.121639</td>\n",
       "    </tr>\n",
       "    <tr>\n",
       "      <th>petal length (cm)</th>\n",
       "      <td>1.274315</td>\n",
       "      <td>-0.329656</td>\n",
       "      <td>3.116278</td>\n",
       "      <td>1.295609</td>\n",
       "    </tr>\n",
       "    <tr>\n",
       "      <th>petal width (cm)</th>\n",
       "      <td>0.516271</td>\n",
       "      <td>-0.121639</td>\n",
       "      <td>1.295609</td>\n",
       "      <td>0.581006</td>\n",
       "    </tr>\n",
       "  </tbody>\n",
       "</table>\n",
       "</div>"
      ],
      "text/plain": [
       "                   sepal length (cm)  sepal width (cm)  petal length (cm)  \\\n",
       "sepal length (cm)           0.685694         -0.042434           1.274315   \n",
       "sepal width (cm)           -0.042434          0.189979          -0.329656   \n",
       "petal length (cm)           1.274315         -0.329656           3.116278   \n",
       "petal width (cm)            0.516271         -0.121639           1.295609   \n",
       "\n",
       "                   petal width (cm)  \n",
       "sepal length (cm)          0.516271  \n",
       "sepal width (cm)          -0.121639  \n",
       "petal length (cm)          1.295609  \n",
       "petal width (cm)           0.581006  "
      ]
     },
     "execution_count": 182,
     "metadata": {},
     "output_type": "execute_result"
    }
   ],
   "source": [
    "# 共分散行列\n",
    "cov=df.cov()\n",
    "cov"
   ]
  },
  {
   "cell_type": "code",
   "execution_count": 240,
   "metadata": {},
   "outputs": [
    {
     "name": "stdout",
     "output_type": "stream",
     "text": [
      "1つ目のデータ:index = 115, virginica:[[6.4 3.2 5.3 2.3]]\n",
      "2つ目のデータ:index = 16, setosa:[[5.4 3.9 1.3 0.4]]\n",
      "[[6.4]\n",
      " [3.2]\n",
      " [5.3]\n",
      " [2.3]] [[5.4]\n",
      " [3.9]\n",
      " [1.3]\n",
      " [0.4]] [[ 0.5   -0.35   2.     0.95 ]\n",
      " [-0.35   0.245 -1.4   -0.665]\n",
      " [ 2.    -1.4    8.     3.8  ]\n",
      " [ 0.95  -0.665  3.8    1.805]]\n",
      "[[ 1.  -0.7  4.   1.9]]\n"
     ]
    },
    {
     "data": {
      "text/plain": [
       "array([[-0.88]])"
      ]
     },
     "execution_count": 240,
     "metadata": {},
     "output_type": "execute_result"
    }
   ],
   "source": [
    "# 0~149の間で乱数を2つ生成\n",
    "#x_num=random.randint(0,df.index.stop-1)\n",
    "#y_num=random.randint(0,df.index.stop-1)\n",
    "x_num=115\n",
    "y_num=16\n",
    "\n",
    "#x=df.loc[x_num]\n",
    "#y=df.loc[y_num]\n",
    "x=df[x_num:x_num+1]\n",
    "y=df[y_num:y_num+1]\n",
    "s=pd.concat([x,y]).cov()\n",
    "#s=pd.merge(x,y)\n",
    "print(\"1つ目のデータ:index = {0}, {1}:{2}\".format(x_num,label[x_num],x.values))\n",
    "print(\"2つ目のデータ:index = {0}, {1}:{2}\".format(y_num,label[y_num],y.values))\n",
    "\n",
    "'''\n",
    "x=np.array(x)\n",
    "y=np.array(y)\n",
    "s=np.array(s)\n",
    "np.linalg.norm(x-y)\n",
    "(x-y).T,(x-y)\n",
    "\n",
    "np.dot((x-y).T,s)\n",
    "'''\n",
    "#np.dot((x-y),s)\n",
    "x=np.array(x).T\n",
    "y=np.array(y).T\n",
    "sa=np.array(s).T\n",
    "sb=np.linalg.inv(s)\n",
    "\n",
    "\"\"\"aa=np.dot((x-y).T,s)\n",
    "bb=np.dot(aa,(x-y))\n",
    "cc=np.sqrt(bb[0][0])\n",
    "np.linalg.norm(x-y),aa,bb,cc\"\"\"\n",
    "print(x,y,sa)\n",
    "print((x-y).T)\n",
    "aa=np.dot((x-y).T,sb)\n",
    "np.dot(aa,(x-y))\n",
    "(x-y).T @ sb @ (x-y)"
   ]
  },
  {
   "cell_type": "code",
   "execution_count": null,
   "metadata": {},
   "outputs": [],
   "source": []
  }
 ],
 "metadata": {
  "kernelspec": {
   "display_name": "Python 3.9.12 64-bit",
   "language": "python",
   "name": "python3"
  },
  "language_info": {
   "codemirror_mode": {
    "name": "ipython",
    "version": 3
   },
   "file_extension": ".py",
   "mimetype": "text/x-python",
   "name": "python",
   "nbconvert_exporter": "python",
   "pygments_lexer": "ipython3",
   "version": "3.9.12"
  },
  "orig_nbformat": 4,
  "vscode": {
   "interpreter": {
    "hash": "b0fa6594d8f4cbf19f97940f81e996739fb7646882a419484c72d19e05852a7e"
   }
  }
 },
 "nbformat": 4,
 "nbformat_minor": 2
}
