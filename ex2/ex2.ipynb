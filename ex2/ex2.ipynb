{
 "cells": [
  {
   "cell_type": "markdown",
   "metadata": {},
   "source": [
    "データサイエンス特論授業課題第2回\n",
    "作成日: 2022年6月25日\n",
    "作成者: M1 203324 紺谷優志\n",
    "\n",
    "IRISのデータに対し、平均と共分散行列を求め、ランダムに選んだ2つのデータのユークリッド距離とマハラノビス距離を求める。"
   ]
  },
  {
   "cell_type": "code",
   "execution_count": 3,
   "metadata": {},
   "outputs": [],
   "source": [
    "import matplotlib.pyplot as plt\n",
    "import pandas as pd\n",
    "import numpy as np\n",
    "import random\n",
    "from scipy.spatial import distance\n",
    "from sklearn.datasets import load_iris  # irisデータセットをロード\n",
    "\n",
    "iris = load_iris()\n",
    "df = pd.DataFrame(iris.data, columns=iris.feature_names) #irisデータをpandasに変換\n",
    "label=pd.Series(data=iris.target_names[iris.target]) # ラベル名を別のDataFrameで管理"
   ]
  },
  {
   "cell_type": "code",
   "execution_count": 4,
   "metadata": {},
   "outputs": [
    {
     "name": "stdout",
     "output_type": "stream",
     "text": [
      "平均値=[5.84333333 3.05733333 3.758      1.19933333]\n"
     ]
    }
   ],
   "source": [
    "# 平均となる４次元ベクトル\n",
    "mu = np.zeros(len(df.columns.values))\n",
    "for i, col in enumerate(df.columns.values):\n",
    "    mu[i]=df[col].mean()\n",
    "print(\"平均値={0}\".format(mu))"
   ]
  },
  {
   "cell_type": "code",
   "execution_count": 5,
   "metadata": {},
   "outputs": [
    {
     "name": "stdout",
     "output_type": "stream",
     "text": [
      "共分散行列=\n"
     ]
    },
    {
     "data": {
      "text/html": [
       "<div>\n",
       "<style scoped>\n",
       "    .dataframe tbody tr th:only-of-type {\n",
       "        vertical-align: middle;\n",
       "    }\n",
       "\n",
       "    .dataframe tbody tr th {\n",
       "        vertical-align: top;\n",
       "    }\n",
       "\n",
       "    .dataframe thead th {\n",
       "        text-align: right;\n",
       "    }\n",
       "</style>\n",
       "<table border=\"1\" class=\"dataframe\">\n",
       "  <thead>\n",
       "    <tr style=\"text-align: right;\">\n",
       "      <th></th>\n",
       "      <th>sepal length (cm)</th>\n",
       "      <th>sepal width (cm)</th>\n",
       "      <th>petal length (cm)</th>\n",
       "      <th>petal width (cm)</th>\n",
       "    </tr>\n",
       "  </thead>\n",
       "  <tbody>\n",
       "    <tr>\n",
       "      <th>sepal length (cm)</th>\n",
       "      <td>0.685694</td>\n",
       "      <td>-0.042434</td>\n",
       "      <td>1.274315</td>\n",
       "      <td>0.516271</td>\n",
       "    </tr>\n",
       "    <tr>\n",
       "      <th>sepal width (cm)</th>\n",
       "      <td>-0.042434</td>\n",
       "      <td>0.189979</td>\n",
       "      <td>-0.329656</td>\n",
       "      <td>-0.121639</td>\n",
       "    </tr>\n",
       "    <tr>\n",
       "      <th>petal length (cm)</th>\n",
       "      <td>1.274315</td>\n",
       "      <td>-0.329656</td>\n",
       "      <td>3.116278</td>\n",
       "      <td>1.295609</td>\n",
       "    </tr>\n",
       "    <tr>\n",
       "      <th>petal width (cm)</th>\n",
       "      <td>0.516271</td>\n",
       "      <td>-0.121639</td>\n",
       "      <td>1.295609</td>\n",
       "      <td>0.581006</td>\n",
       "    </tr>\n",
       "  </tbody>\n",
       "</table>\n",
       "</div>"
      ],
      "text/plain": [
       "                   sepal length (cm)  sepal width (cm)  petal length (cm)  \\\n",
       "sepal length (cm)           0.685694         -0.042434           1.274315   \n",
       "sepal width (cm)           -0.042434          0.189979          -0.329656   \n",
       "petal length (cm)           1.274315         -0.329656           3.116278   \n",
       "petal width (cm)            0.516271         -0.121639           1.295609   \n",
       "\n",
       "                   petal width (cm)  \n",
       "sepal length (cm)          0.516271  \n",
       "sepal width (cm)          -0.121639  \n",
       "petal length (cm)          1.295609  \n",
       "petal width (cm)           0.581006  "
      ]
     },
     "execution_count": 5,
     "metadata": {},
     "output_type": "execute_result"
    }
   ],
   "source": [
    "# 共分散行列\n",
    "cov=df.cov()\n",
    "print(\"共分散行列=\")\n",
    "cov"
   ]
  },
  {
   "cell_type": "code",
   "execution_count": 6,
   "metadata": {},
   "outputs": [],
   "source": [
    "def calc_dist(i):\n",
    "    # 0~149の間で乱数を2つ生成\n",
    "    x_num=random.randint(0,df.index.stop-1)\n",
    "    y_num=random.randint(0,df.index.stop-1)\n",
    "\n",
    "    #番号に対応したデータを抜き出し\n",
    "    x=df[x_num:x_num+1]\n",
    "    y=df[y_num:y_num+1]\n",
    "\n",
    "    # データ内容の表示\n",
    "    print(\"試行{0}\".format(i+1))\n",
    "    print(\"1つ目のデータ:index = {0}, {1}:{2}\".format(x_num,label[x_num],x.values))\n",
    "    print(\"2つ目のデータ:index = {0}, {1}:{2}\".format(y_num,label[y_num],y.values))\n",
    "\n",
    "    # 距離計算のためNumPyに変換\n",
    "    x=np.array(x)\n",
    "    y=np.array(y)\n",
    "    cov_i=np.linalg.pinv(cov) #共分散行列の逆行列\n",
    "\n",
    "    # 距離の表示\n",
    "    print(\"Euclid(x,y) = {0}\".format(distance.euclidean(x,y)))\n",
    "    print(\"Mahalanobis(x,y) = {0}\".format(distance.mahalanobis(x,y,cov_i)))"
   ]
  },
  {
   "cell_type": "code",
   "execution_count": 7,
   "metadata": {},
   "outputs": [
    {
     "name": "stdout",
     "output_type": "stream",
     "text": [
      "試行1\n",
      "1つ目のデータ:index = 20, setosa:[[5.4 3.4 1.7 0.2]]\n",
      "2つ目のデータ:index = 33, setosa:[[5.5 4.2 1.4 0.2]]\n",
      "Euclid(x,y) = 0.860232526704263\n",
      "Mahalanobis(x,y) = 2.082657194372966\n",
      "試行2\n",
      "1つ目のデータ:index = 20, setosa:[[5.4 3.4 1.7 0.2]]\n",
      "2つ目のデータ:index = 33, setosa:[[5.5 4.2 1.4 0.2]]\n",
      "Euclid(x,y) = 0.860232526704263\n",
      "Mahalanobis(x,y) = 2.082657194372966\n",
      "試行3\n",
      "1つ目のデータ:index = 20, setosa:[[5.4 3.4 1.7 0.2]]\n",
      "2つ目のデータ:index = 33, setosa:[[5.5 4.2 1.4 0.2]]\n",
      "Euclid(x,y) = 0.860232526704263\n",
      "Mahalanobis(x,y) = 2.082657194372966\n"
     ]
    }
   ],
   "source": [
    "for i in range(3):\n",
    "    calc_dist(i)"
   ]
  },
  {
   "cell_type": "code",
   "execution_count": null,
   "metadata": {},
   "outputs": [],
   "source": []
  },
  {
   "cell_type": "code",
   "execution_count": null,
   "metadata": {},
   "outputs": [],
   "source": []
  }
 ],
 "metadata": {
  "kernelspec": {
   "display_name": "Python 3.9.6 64-bit ('3.9.6')",
   "language": "python",
   "name": "python3"
  },
  "language_info": {
   "codemirror_mode": {
    "name": "ipython",
    "version": 3
   },
   "file_extension": ".py",
   "mimetype": "text/x-python",
   "name": "python",
   "nbconvert_exporter": "python",
   "pygments_lexer": "ipython3",
   "version": "3.9.6"
  },
  "orig_nbformat": 4,
  "vscode": {
   "interpreter": {
    "hash": "89f142c5e0f1705deb2db4cf7e0dc678636cb1933d453fbbccc55a26e1a8c8e7"
   }
  }
 },
 "nbformat": 4,
 "nbformat_minor": 2
}
