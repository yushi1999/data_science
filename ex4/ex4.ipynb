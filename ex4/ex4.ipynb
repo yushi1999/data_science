{
 "cells": [
  {
   "cell_type": "markdown",
   "metadata": {},
   "source": [
    "データサイエンス特論授業課題第4回\n",
    "作成日: 2022年7月11日\n",
    "作成者: M1 203324 紺谷優志\n",
    "\n",
    "隣接行列、PageRank値、Authority値、Hub値を求めるプログラム"
   ]
  },
  {
   "cell_type": "code",
   "execution_count": 1,
   "metadata": {},
   "outputs": [],
   "source": [
    "import csv\n",
    "import pandas as pd\n",
    "import numpy as np"
   ]
  },
  {
   "cell_type": "code",
   "execution_count": 27,
   "metadata": {},
   "outputs": [],
   "source": [
    "# (1)隣接行列の定義\n",
    "data = np.array([\n",
    "        [0,1,0,1,0,0,0],\n",
    "        [1,0,1,0,0,1,0],\n",
    "        [1,0,0,1,1,0,0],\n",
    "        [1,0,0,0,1,1,0],\n",
    "        [0,1,0,1,0,0,1],\n",
    "        [1,0,0,0,0,0,1],\n",
    "        [0,1,0,1,0,1,0],\n",
    "    ])"
   ]
  },
  {
   "cell_type": "code",
   "execution_count": 28,
   "metadata": {},
   "outputs": [
    {
     "name": "stdout",
     "output_type": "stream",
     "text": [
      "PageRank値: [0.222 0.194 0.175 0.159 0.108 0.084 0.058]\n"
     ]
    }
   ],
   "source": [
    "# (2)PageRank値を求める\n",
    "import numpy as np\n",
    "def pageMat(mat):#input is adjacency matrix(NxN)\n",
    "    mat = mat.T # transpose\n",
    "    a = mat.shape\n",
    "    m = a[0]\n",
    "    for j in range(m):\n",
    "        count = 0.0\n",
    "        for i in range(m):\n",
    "            count += mat[i,j]\n",
    "        for i in range(m): # probability normalization\n",
    "            mat[i,j] = mat[i,j] / count\n",
    "\n",
    "    return(mat)\n",
    "# PageRank computation example\n",
    "import csv\n",
    "import pandas as pd\n",
    "from scipy import linalg as la\n",
    "\n",
    "pMat = data[:,:] # copy data\n",
    "pMat = pMat.astype(float)\n",
    "A = pageMat(pMat)# PageRank matrix computation\n",
    "e_vals, e_vecs = la.eig(A)# Eigen decomposition\n",
    "#print(\"Eigenvalue\",np.round(e_vals.real,3))\n",
    "#print(\"Eigenvector\",e_vecs.shape, \" \",\n",
    "#np.round(e_vecs[:,0].real,3))\n",
    "myVec = np.abs(e_vecs[:,0].real)\n",
    "sum = np.sum(myVec)\n",
    "pageVec = myVec / sum\n",
    "indices = np.argsort(pageVec)[::-1] # sort decending\n",
    "#print (\"Web Id:\",indices+1) # index+1\n",
    "print (\"PageRank値:\",np.round(pageVec[indices],3))"
   ]
  },
  {
   "cell_type": "code",
   "execution_count": 29,
   "metadata": {},
   "outputs": [
    {
     "name": "stdout",
     "output_type": "stream",
     "text": [
      "Authority値が最大のページ:4\n",
      "Hub値が最大のページ:7\n"
     ]
    }
   ],
   "source": [
    "# (3)Authority値が最大のページとHub値が最大のページを求める\n",
    "E = data[:,:]\n",
    "E = E.astype(float) # convert from object to float\n",
    "A = np.dot(E.T, E) # E^{T} * E Authority\n",
    "H = np.dot(E, E.T) # E * E^{T} Hub\n",
    "eA_vals, eA_vecs = la.eig(A)\n",
    "eH_vals, eH_vecs = la.eig(H)\n",
    "myVecA = np.abs(eA_vecs[:,0].real)\n",
    "myVecH = np.abs(eH_vecs[:,0].real)\n",
    "indicesA = np.argsort(myVecA)[::-1] # sort descending order\n",
    "#print (\"Authority Id:\",indicesA+1) # index from 0 +1\n",
    "#print (\"Authority: sorted \")\n",
    "#print (np.round(myVecA[indicesA],3))\n",
    "print(\"Authority値が最大のページ:\"+str(indicesA[0]+1))\n",
    "indicesH = np.argsort(myVecH)[::-1] # sort descending order\n",
    "#print (\"Hub Id:\",indicesH+1) # index from 0 + 1\n",
    "#print (\"Hub : sorted \")\n",
    "#print (np.round(myVecH[indicesH],3))\n",
    "print(\"Hub値が最大のページ:\"+str(indicesH[0]+1))"
   ]
  },
  {
   "cell_type": "code",
   "execution_count": null,
   "metadata": {},
   "outputs": [],
   "source": []
  }
 ],
 "metadata": {
  "kernelspec": {
   "display_name": "Python 3.9.12 64-bit",
   "language": "python",
   "name": "python3"
  },
  "language_info": {
   "codemirror_mode": {
    "name": "ipython",
    "version": 3
   },
   "file_extension": ".py",
   "mimetype": "text/x-python",
   "name": "python",
   "nbconvert_exporter": "python",
   "pygments_lexer": "ipython3",
   "version": "3.9.12"
  },
  "orig_nbformat": 4,
  "vscode": {
   "interpreter": {
    "hash": "b0fa6594d8f4cbf19f97940f81e996739fb7646882a419484c72d19e05852a7e"
   }
  }
 },
 "nbformat": 4,
 "nbformat_minor": 2
}
