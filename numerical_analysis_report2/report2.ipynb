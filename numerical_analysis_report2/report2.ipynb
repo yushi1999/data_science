{
 "cells": [
  {
   "cell_type": "code",
   "execution_count": null,
   "metadata": {},
   "outputs": [],
   "source": [
    "import numpy as np\n",
    "import matplotlib.pyplot as plt\n",
    "from scipy.sparse import linalg\n",
    "from scipy.sparse.linalg import eigs\n",
    "import cv2\n",
    "from cv2 import Mat\n",
    "import math\n",
    "import random\n",
    "from IPython.display import Image, display\n",
    "from PIL import Image as im"
   ]
  },
  {
   "cell_type": "code",
   "execution_count": 100,
   "metadata": {},
   "outputs": [],
   "source": [
    "class TransferedPicture: #画像の相似変換\n",
    "    def __init__(self,pic:Mat,scale,theta,gray=False):\n",
    "        self.orig_img=pic\n",
    "        if gray==False:\n",
    "            h,w,c=self.orig_img.shape\n",
    "        else:\n",
    "            h,w=self.orig_img.shape\n",
    "        mat = cv2.getRotationMatrix2D((w / 2, h / 2), theta, scale) #相似変換のパラメータ設定\n",
    "        self.img = cv2.warpAffine(pic, mat, (w, h)) #相似変換を実行\n",
    "        self.scale=scale\n",
    "        self.theta=theta\n",
    "    \n",
    "    def write(self,img_name):\n",
    "        cv2.imwrite(img_name,self.img)\n",
    "        \n",
    "    def get_img_array(self): #オリジナル画像と変換後画像の配列を得る\n",
    "        return self.orig_img, self.img\n",
    "    \n",
    "    def get_gray_array(self): #オリジナル画像と変換後画像のグレースケールでの配列を得る\n",
    "        orig_gray=cv2.cvtColor(self.orig_img,cv2.COLOR_BGR2GRAY)\n",
    "        img_gray=cv2.cvtColor(self.img,cv2.COLOR_BGR2GRAY)\n",
    "        return orig_gray,img_gray\n",
    "    \n",
    "    def smooth_def(self): #x方向,y方向それぞれの平滑微分画像を生成\n",
    "        #x方向の平滑微分画像\n",
    "        gs_x=cv2.GaussianBlur(self.img,(3,3),3)\n",
    "        kernel_x = 0.5 * np.array([[0, 0, 0], [-1, 0, 1], [0, 0, 0]])\n",
    "        dst_x = cv2.filter2D(gs_x, -1, kernel_x)\n",
    "        dst_x=cv2.cvtColor(dst_x,cv2.COLOR_BGR2GRAY)\n",
    "        \n",
    "        #y方向の微分\n",
    "        gs_y=cv2.GaussianBlur(self.img,(3,3),3)\n",
    "        kernel_y = 0.5 * np.array([[0, -1, 0], [0, 0, 0], [0, 1, 0]])\n",
    "        dst_y = cv2.filter2D(gs_y, -1, kernel_y)\n",
    "        dst_y=cv2.cvtColor(dst_y,cv2.COLOR_BGR2GRAY)\n",
    "        \n",
    "        return dst_x,dst_y"
   ]
  },
  {
   "cell_type": "code",
   "execution_count": 109,
   "metadata": {},
   "outputs": [],
   "source": [
    "class GaussNewton:\n",
    "    def __init__(self,orig:np.array,st:np.array,i_x:np.array,i_y:np.array):\n",
    "        #θとsを初期化\n",
    "        self.theta=random.uniform(-180,180)\n",
    "        self.scale=random.random()\n",
    "        #各画像配列を保持\n",
    "        self.orig=orig\n",
    "        self.st=st\n",
    "        self.i_x=i_x\n",
    "        self.i_y=i_y\n",
    "        self.h,self.w=orig.shape\n",
    "        \n",
    "    def dx_dtheta(self,x,y):\n",
    "        return self.scale*(-2*x*np.sin(self.theta)-(2*y*np.cos(self.theta)))\n",
    "    def dy_dtheta(self,x,y):\n",
    "        return self.scale*(2*x*np.cos(self.theta)-(2*y*np.sin(self.theta)))\n",
    "    def dx_dscale(self,x,y):\n",
    "        return 2*x*np.cos(self.theta)-(2*y*np.sin(self.theta))\n",
    "    def dy_dscale(self,x,y):\n",
    "        return 2*x*np.sin(self.theta)-(2*y*np.cos(self.theta))\n",
    "    \n",
    "    #1周分の計算を行う\n",
    "    def calc_param(self):\n",
    "        h,w=int(self.h/2),int(self.w/2)\n",
    "        j_t=j_tt=j_s=j_ss=j_ts=.0\n",
    "        print(\"θ={0}, s={1}\".format(self.theta,self.scale))\n",
    "        for i in range(-1*h,h):\n",
    "            for j in range(-1*w,w):\n",
    "                #配列の座標を画像の中心を原点とした座標に変換\n",
    "                x,y=j,-1*i #y軸の正の方向を向かせる\n",
    "                x_d=int(self.scale*(np.cos(self.theta)*x-(np.sin(self.theta)*y)))\n",
    "                y_d=int(self.scale*(np.sin(self.theta)*x+(np.cos(self.theta)*y)))\n",
    "                \n",
    "                dxdt=self.dx_dtheta(x_d,y_d)\n",
    "                dydt=self.dy_dtheta(x_d,y_d)\n",
    "                dxds=self.dx_dscale(x_d,y_d)\n",
    "                dyds=self.dy_dscale(x_d,y_d)\n",
    "                \n",
    "                #配列の座標値に逆変換\n",
    "                x,y=x+w,-1*y+h\n",
    "                x_d,y_d=x_d+w-1,-1*y_d+h-1\n",
    "                \n",
    "                #各微分式の計算\n",
    "                j_t+=(st_gray_array[x_d][y_d]-orig_gray_array[x][y])*(i_x_array[x_d][y_d]*dxdt+(i_y_array[x_d][y_d]*dydt))\n",
    "                j_tt+=np.square(i_x_array[x_d][y_d]*dxdt+(i_y_array[x_d][y_d]*dydt))\n",
    "                j_s+=(st_gray_array[x_d][y_d]-orig_gray_array[x][y])*(i_x_array[x_d][y_d]*dxds+(i_y_array[x_d][y_d]*dyds))\n",
    "                j_ss+=np.square((i_x_array[x_d][y_d]*dxds+(i_y_array[x_d][y_d]*dyds)))\n",
    "                j_ts+=(i_x_array[x_d][y_d]*dxdt+(i_y_array[x_d][y_d]*dydt))*(i_x_array[x_d][y_d]*dxds+(i_y_array[x_d][y_d]*dyds))\n",
    "        \n",
    "        #delta_thetaとdelta_scaleの計算\n",
    "        mt=np.array([[j_tt,j_ts],[j_ts,j_ss]])\n",
    "        deltas=-1*np.linalg.inv(mt).dot(np.array([j_t,j_s]))\n",
    "        print(\"Δθ={0}, Δs={1}\".format(deltas[0],deltas[1]))\n",
    "        return deltas[0],deltas[1]\n",
    "    \n",
    "    def until_convergence(self):\n",
    "        eps=1e-8\n",
    "        old_dt=old_ds=1000\n",
    "        i=1\n",
    "        while(True):\n",
    "            print(\"{0}周目\".format(i))\n",
    "            new_dt,new_ds=self.calc_param()\n",
    "            self.theta+=new_dt\n",
    "            self.scale+=new_ds\n",
    "            if abs(new_dt-old_dt)<eps and abs(new_ds-old_ds)<eps:\n",
    "                print(\"収束を確認\")\n",
    "                print(\"最終値: θ={0}, s={1}\".format(self.theta,self.scale))\n",
    "                break\n",
    "            i+=1\n",
    "        pass"
   ]
  },
  {
   "cell_type": "code",
   "execution_count": 110,
   "metadata": {},
   "outputs": [],
   "source": [
    "def imshow(img):\n",
    "    #ndarray 配列から画像をNotebook上に表示\n",
    "    ret, encoded = cv2.imencode(\".jpg\", img)\n",
    "    display(Image(encoded))"
   ]
  },
  {
   "cell_type": "code",
   "execution_count": 111,
   "metadata": {},
   "outputs": [],
   "source": [
    "pic_name=\"pic1.png\"\n",
    "pic_st_name=\"pic2.png\"\n",
    "#thetaとscaleの初期値を適当に決める\n",
    "s,t=0.6,20\n",
    "orig_img=cv2.imread(pic_name)\n",
    "tp=TransferedPicture(pic=orig_img,scale=s,theta=t)\n",
    "#画像データを得る\n",
    "orig_img,st_img=tp.get_img_array()\n",
    "orig_gray_img,st_gray_img=tp.get_gray_array()\n",
    "#numpy配列化する\n",
    "orig_array,st_array=np.array(orig_img),np.array(st_img)\n",
    "orig_gray_array,st_gray_array=np.array(orig_gray_img),np.array(st_gray_img)\n",
    "\n",
    "#Iの計算\n",
    "h,w=st_gray_img.shape\n",
    "i_x,i_y=tp.smooth_def()\n",
    "i_x_array,i_y_array=np.array(i_x),np.array(i_y)"
   ]
  },
  {
   "cell_type": "code",
   "execution_count": 112,
   "metadata": {},
   "outputs": [
    {
     "data": {
      "image/png": "[encoded data removed]",
      "text/plain": [
       "<IPython.core.display.Image object>"
      ]
     },
     "metadata": {},
     "output_type": "display_data"
    }
   ],
   "source": [
    "imgs=cv2.hconcat([orig_gray_img,st_gray_img])\n",
    "imshow(imgs)"
   ]
  },
  {
   "cell_type": "code",
   "execution_count": 113,
   "metadata": {},
   "outputs": [
    {
     "data": {
      "image/png": "[encoded data removed]",
      "text/plain": [
       "<IPython.core.display.Image object>"
      ]
     },
     "metadata": {},
     "output_type": "display_data"
    }
   ],
   "source": [
    "imgs=cv2.hconcat([i_x,i_y])\n",
    "imshow(imgs)"
   ]
  },
  {
   "cell_type": "code",
   "execution_count": 114,
   "metadata": {},
   "outputs": [
    {
     "name": "stdout",
     "output_type": "stream",
     "text": [
      "1周目\n",
      "θ=-72.09141277519228, s=0.5207524997733802\n"
     ]
    },
    {
     "name": "stderr",
     "output_type": "stream",
     "text": [
      "/var/folders/5q/gwhjzy5s4nl5rhb5x_hsv9z40000gn/T/ipykernel_29906/3715362507.py:44: RuntimeWarning: overflow encountered in ubyte_scalars\n",
      "  j_t+=(st_gray_array[x_d][y_d]-orig_gray_array[x][y])*(i_x_array[x_d][y_d]*dxdt+(i_y_array[x_d][y_d]*dydt))\n",
      "/var/folders/5q/gwhjzy5s4nl5rhb5x_hsv9z40000gn/T/ipykernel_29906/3715362507.py:46: RuntimeWarning: overflow encountered in ubyte_scalars\n",
      "  j_s+=(st_gray_array[x_d][y_d]-orig_gray_array[x][y])*(i_x_array[x_d][y_d]*dxds+(i_y_array[x_d][y_d]*dyds))\n"
     ]
    },
    {
     "name": "stdout",
     "output_type": "stream",
     "text": [
      "Δθ=-0.07702504812561149, Δs=-0.028522552620003267\n",
      "2周目\n",
      "θ=-72.16843782331789, s=0.492229947153377\n",
      "Δθ=-0.10174822778269474, Δs=-0.026580780342496158\n",
      "3周目\n",
      "θ=-72.27018605110058, s=0.4656491668108808\n",
      "Δθ=-0.12565723590782765, Δs=-0.02201442124046455\n",
      "4周目\n",
      "θ=-72.3958432870084, s=0.44363474557041627\n",
      "Δθ=-0.16533467902437393, Δs=-0.020617073863675176\n",
      "5周目\n",
      "θ=-72.56117796603277, s=0.4230176717067411\n",
      "Δθ=-0.18135131792101272, Δs=-0.022291806275526977\n",
      "6周目\n",
      "θ=-72.74252928395379, s=0.40072586543121413\n",
      "Δθ=-0.20391973516562273, Δs=-0.016970760196184577\n",
      "7周目\n",
      "θ=-72.94644901911941, s=0.38375510523502954\n",
      "Δθ=-0.22791490250763777, Δs=0.010786239233506321\n",
      "8周目\n",
      "θ=-73.17436392162705, s=0.39454134446853584\n",
      "Δθ=-0.11423559746439332, Δs=0.034379160090721936\n",
      "9周目\n",
      "θ=-73.28859951909143, s=0.4289205045592578\n",
      "Δθ=-0.09632693835163782, Δs=0.031526774310744334\n",
      "10周目\n",
      "θ=-73.38492645744307, s=0.46044727887000214\n",
      "Δθ=-0.08712578912456448, Δs=0.025744012422054523\n",
      "11周目\n",
      "θ=-73.47205224656764, s=0.4861912912920567\n",
      "Δθ=-0.08049676135670186, Δs=0.028439919141483364\n",
      "12周目\n",
      "θ=-73.55254900792434, s=0.5146312104335401\n",
      "Δθ=-0.07418674554206733, Δs=0.026092076362593586\n",
      "13周目\n",
      "θ=-73.6267357534664, s=0.5407232867961337\n",
      "Δθ=-0.06901057422820471, Δs=0.022554192015923718\n",
      "14周目\n",
      "θ=-73.69574632769461, s=0.5632774788120574\n",
      "Δθ=-0.06566031264088046, Δs=0.017830483833368025\n",
      "15周目\n",
      "θ=-73.7614066403355, s=0.5811079626454254\n",
      "Δθ=-0.06487292012255065, Δs=0.01296475468554097\n",
      "16周目\n",
      "θ=-73.82627956045805, s=0.5940727173309663\n",
      "Δθ=-0.06511241656404812, Δs=0.01043346133347923\n",
      "17周目\n",
      "θ=-73.8913919770221, s=0.6045061786644456\n",
      "Δθ=-0.06276780418926442, Δs=0.012954951940706698\n",
      "18周目\n",
      "θ=-73.95415978121136, s=0.6174611306051523\n",
      "Δθ=-0.05957639527936988, Δs=0.01517964065490637\n",
      "19周目\n",
      "θ=-74.01373617649072, s=0.6326407712600587\n",
      "Δθ=-0.05713299117287868, Δs=0.01714384101216123\n",
      "20周目\n",
      "θ=-74.0708691676636, s=0.64978461227222\n",
      "Δθ=-0.052803099152102954, Δs=0.01962039466167368\n",
      "21周目\n",
      "θ=-74.1236722668157, s=0.6694050069338936\n",
      "Δθ=-0.04978467474577378, Δs=0.02141576431369767\n",
      "22周目\n",
      "θ=-74.17345694156148, s=0.6908207712475912\n",
      "Δθ=-0.046112509927024745, Δs=0.0234155501830609\n",
      "23周目\n",
      "θ=-74.21956945148851, s=0.7142363214306521\n",
      "Δθ=-0.04217085310037585, Δs=0.025081904215693916\n",
      "24周目\n",
      "θ=-74.26174030458888, s=0.739318225646346\n",
      "Δθ=-0.0392749507746499, Δs=0.02632158890752084\n",
      "25周目\n",
      "θ=-74.30101525536354, s=0.7656398145538668\n"
     ]
    },
    {
     "ename": "IndexError",
     "evalue": "index 320 is out of bounds for axis 0 with size 320",
     "output_type": "error",
     "traceback": [
      "\u001b[0;31m---------------------------------------------------------------------------\u001b[0m",
      "\u001b[0;31mIndexError\u001b[0m                                Traceback (most recent call last)",
      "\u001b[1;32mセル8 を /Users/gentle/development/data_science/numerical_analysis_report2/report2.ipynb\u001b[0m in \u001b[0;36m<cell line: 2>\u001b[0;34m()\u001b[0m\n\u001b[1;32m      <a href='vscode-notebook-cell:/Users/gentle/development/data_science/numerical_analysis_report2/report2.ipynb#ch0000029?line=0'>1</a>\u001b[0m gn\u001b[39m=\u001b[39mGaussNewton(orig\u001b[39m=\u001b[39morig_gray_array,st\u001b[39m=\u001b[39mst_gray_array,i_x\u001b[39m=\u001b[39mi_x_array,i_y\u001b[39m=\u001b[39mi_y_array)\n\u001b[0;32m----> <a href='vscode-notebook-cell:/Users/gentle/development/data_science/numerical_analysis_report2/report2.ipynb#ch0000029?line=1'>2</a>\u001b[0m gn\u001b[39m.\u001b[39;49muntil_convergence()\n",
      "\u001b[1;32mセル8 を /Users/gentle/development/data_science/numerical_analysis_report2/report2.ipynb\u001b[0m in \u001b[0;36mGaussNewton.until_convergence\u001b[0;34m(self)\u001b[0m\n\u001b[1;32m     <a href='vscode-notebook-cell:/Users/gentle/development/data_science/numerical_analysis_report2/report2.ipynb#ch0000029?line=59'>60</a>\u001b[0m \u001b[39mwhile\u001b[39;00m(\u001b[39mTrue\u001b[39;00m):\n\u001b[1;32m     <a href='vscode-notebook-cell:/Users/gentle/development/data_science/numerical_analysis_report2/report2.ipynb#ch0000029?line=60'>61</a>\u001b[0m     \u001b[39mprint\u001b[39m(\u001b[39m\"\u001b[39m\u001b[39m{0}\u001b[39;00m\u001b[39m周目\u001b[39m\u001b[39m\"\u001b[39m\u001b[39m.\u001b[39mformat(i))\n\u001b[0;32m---> <a href='vscode-notebook-cell:/Users/gentle/development/data_science/numerical_analysis_report2/report2.ipynb#ch0000029?line=61'>62</a>\u001b[0m     new_dt,new_ds\u001b[39m=\u001b[39m\u001b[39mself\u001b[39;49m\u001b[39m.\u001b[39;49mcalc_param()\n\u001b[1;32m     <a href='vscode-notebook-cell:/Users/gentle/development/data_science/numerical_analysis_report2/report2.ipynb#ch0000029?line=62'>63</a>\u001b[0m     \u001b[39mself\u001b[39m\u001b[39m.\u001b[39mtheta\u001b[39m+\u001b[39m\u001b[39m=\u001b[39mnew_dt\n\u001b[1;32m     <a href='vscode-notebook-cell:/Users/gentle/development/data_science/numerical_analysis_report2/report2.ipynb#ch0000029?line=63'>64</a>\u001b[0m     \u001b[39mself\u001b[39m\u001b[39m.\u001b[39mscale\u001b[39m+\u001b[39m\u001b[39m=\u001b[39mnew_ds\n",
      "\u001b[1;32mセル8 を /Users/gentle/development/data_science/numerical_analysis_report2/report2.ipynb\u001b[0m in \u001b[0;36mGaussNewton.calc_param\u001b[0;34m(self)\u001b[0m\n\u001b[1;32m     <a href='vscode-notebook-cell:/Users/gentle/development/data_science/numerical_analysis_report2/report2.ipynb#ch0000029?line=40'>41</a>\u001b[0m x_d,y_d\u001b[39m=\u001b[39mx_d\u001b[39m+\u001b[39mw\u001b[39m-\u001b[39m\u001b[39m1\u001b[39m,\u001b[39m-\u001b[39m\u001b[39m1\u001b[39m\u001b[39m*\u001b[39my_d\u001b[39m+\u001b[39mh\u001b[39m-\u001b[39m\u001b[39m1\u001b[39m\n\u001b[1;32m     <a href='vscode-notebook-cell:/Users/gentle/development/data_science/numerical_analysis_report2/report2.ipynb#ch0000029?line=42'>43</a>\u001b[0m \u001b[39m#各微分式の計算\u001b[39;00m\n\u001b[0;32m---> <a href='vscode-notebook-cell:/Users/gentle/development/data_science/numerical_analysis_report2/report2.ipynb#ch0000029?line=43'>44</a>\u001b[0m j_t\u001b[39m+\u001b[39m\u001b[39m=\u001b[39m(st_gray_array[x_d][y_d]\u001b[39m-\u001b[39morig_gray_array[x][y])\u001b[39m*\u001b[39m(i_x_array[x_d][y_d]\u001b[39m*\u001b[39mdxdt\u001b[39m+\u001b[39m(i_y_array[x_d][y_d]\u001b[39m*\u001b[39mdydt))\n\u001b[1;32m     <a href='vscode-notebook-cell:/Users/gentle/development/data_science/numerical_analysis_report2/report2.ipynb#ch0000029?line=44'>45</a>\u001b[0m j_tt\u001b[39m+\u001b[39m\u001b[39m=\u001b[39mnp\u001b[39m.\u001b[39msquare(i_x_array[x_d][y_d]\u001b[39m*\u001b[39mdxdt\u001b[39m+\u001b[39m(i_y_array[x_d][y_d]\u001b[39m*\u001b[39mdydt))\n\u001b[1;32m     <a href='vscode-notebook-cell:/Users/gentle/development/data_science/numerical_analysis_report2/report2.ipynb#ch0000029?line=45'>46</a>\u001b[0m j_s\u001b[39m+\u001b[39m\u001b[39m=\u001b[39m(st_gray_array[x_d][y_d]\u001b[39m-\u001b[39morig_gray_array[x][y])\u001b[39m*\u001b[39m(i_x_array[x_d][y_d]\u001b[39m*\u001b[39mdxds\u001b[39m+\u001b[39m(i_y_array[x_d][y_d]\u001b[39m*\u001b[39mdyds))\n",
      "\u001b[0;31mIndexError\u001b[0m: index 320 is out of bounds for axis 0 with size 320"
     ]
    }
   ],
   "source": [
    "gn=GaussNewton(orig=orig_gray_array,st=st_gray_array,i_x=i_x_array,i_y=i_y_array)\n",
    "gn.until_convergence()"
   ]
  },
  {
   "cell_type": "code",
   "execution_count": 74,
   "metadata": {},
   "outputs": [
    {
     "name": "stderr",
     "output_type": "stream",
     "text": [
      "/var/folders/5q/gwhjzy5s4nl5rhb5x_hsv9z40000gn/T/ipykernel_29906/717106919.py:26: RuntimeWarning: overflow encountered in ubyte_scalars\n",
      "  sum+=(st_gray_array[x_d][y_d]-orig_gray_array[x][y])*(i_x_array[x_d][y_d]*dxdt+(i_y_array[x_d][y_d]*dydt))\n"
     ]
    }
   ],
   "source": [
    "def dx_dtheta(x,y,scale,theta):\n",
    "    return scale*(-2*x*np.sin(theta)-(2*y*np.cos(theta)))\n",
    "def dy_dtheta(x,y,scale,theta):\n",
    "    return scale*(2*x*np.cos(theta)-(2*y*np.sin(theta)))\n",
    "def dx_dscale(x,y,scale,theta):\n",
    "    return 2*x*np.cos(theta)-(2*y*np.sin(theta))\n",
    "def dy_dscale(x,y,scale,theta):\n",
    "    return 2*x*np.sin(theta)-(2*y*np.cos(theta))\n",
    "\n",
    "#J_thetaを計算\n",
    "def J_theta(h,w,scale,theta):\n",
    "    h,w=int(h/2),int(w/2)\n",
    "    sum=.0\n",
    "    for i in range(-1*h,h):\n",
    "        for j in range(-1*w,w):\n",
    "            #回転の中心は画像の中心になるのでその分の補正を行う\n",
    "            x,y=j,-1*i #y軸の正の方向を向かせる\n",
    "            x_d=int(scale*(np.cos(theta)*x-(np.sin(theta)*y)))\n",
    "            y_d=int(scale*(np.sin(theta)*x+(np.cos(theta)*y)))\n",
    "            dxdt=dx_dtheta(x_d,y_d,scale,theta)\n",
    "            dydt=dy_dtheta(x_d,y_d,scale,theta)\n",
    "            \n",
    "            x,y=x+w,-1*y+h\n",
    "            x_d,y_d=x_d+w,-1*y_d+h\n",
    "            #print(y_d,x_d)\n",
    "            sum+=(st_gray_array[x_d][y_d]-orig_gray_array[x][y])*(i_x_array[x_d][y_d]*dxdt+(i_y_array[x_d][y_d]*dydt))\n",
    "                        \n",
    "    return sum\n",
    "j_t=J_theta(h,w,scale,theta)"
   ]
  },
  {
   "cell_type": "code",
   "execution_count": 75,
   "metadata": {},
   "outputs": [],
   "source": [
    "#J_thetathetaを計算\n",
    "def J_thetatheta(h,w,scale,theta):\n",
    "    h,w=int(h/2),int(w/2)\n",
    "    sum=.0\n",
    "    for i in range(-1*h,h):\n",
    "        for j in range(-1*w,w):\n",
    "            #回転の中心は画像の中心になるのでその分の補正を行う\n",
    "            x,y=j,-1*i #y軸の正の方向を向かせる\n",
    "            x_d=int(scale*(np.cos(theta)*x-(np.sin(theta)*y)))\n",
    "            y_d=int(scale*(np.sin(theta)*x+(np.cos(theta)*y)))\n",
    "            dxdt=dx_dtheta(x_d,y_d,scale,theta)\n",
    "            dydt=dy_dtheta(x_d,y_d,scale,theta)\n",
    "            \n",
    "            x,y=x+w,-1*y+h\n",
    "            x_d,y_d=x_d+w,-1*y_d+h\n",
    "            sum+=(i_x_array[x_d][y_d]*dxdt+(i_y_array[x_d][y_d]*dydt))*(i_x_array[x_d][y_d]*dxdt+(i_y_array[x_d][y_d]*dydt))      \n",
    "\n",
    "    return sum\n",
    "j_tt=J_thetatheta(h,w,scale,theta)"
   ]
  },
  {
   "cell_type": "code",
   "execution_count": 76,
   "metadata": {},
   "outputs": [
    {
     "name": "stderr",
     "output_type": "stream",
     "text": [
      "/var/folders/5q/gwhjzy5s4nl5rhb5x_hsv9z40000gn/T/ipykernel_29906/3770831282.py:16: RuntimeWarning: overflow encountered in ubyte_scalars\n",
      "  sum+=(st_gray_array[x_d][y_d]-orig_gray_array[x][y])*(i_x_array[x_d][y_d]*dxds+(i_y_array[x_d][y_d]*dyds))\n"
     ]
    }
   ],
   "source": [
    "def J_scale(h,w,scale,theta):\n",
    "    h,w=int(h/2),int(w/2)\n",
    "    sum=.0\n",
    "    for i in range(-1*h,h):\n",
    "        for j in range(-1*w,w):\n",
    "            #回転の中心は画像の中心になるのでその分の補正を行う\n",
    "            x,y=j,-1*i #y軸の正の方向を向かせる\n",
    "            x_d=int(scale*(np.cos(theta)*x-(np.sin(theta)*y)))\n",
    "            y_d=int(scale*(np.sin(theta)*x+(np.cos(theta)*y)))\n",
    "            dxds=dx_dscale(x_d,y_d,scale,theta)\n",
    "            dyds=dy_dscale(x_d,y_d,scale,theta)\n",
    "            \n",
    "            x,y=x+w,-1*y+h\n",
    "            x_d,y_d=x_d+w,-1*y_d+h\n",
    "            #print(y_d,x_d)\n",
    "            sum+=(st_gray_array[x_d][y_d]-orig_gray_array[x][y])*(i_x_array[x_d][y_d]*dxds+(i_y_array[x_d][y_d]*dyds))\n",
    "                        \n",
    "    return sum\n",
    "j_s=J_scale(h,w,scale,theta)"
   ]
  },
  {
   "cell_type": "code",
   "execution_count": 77,
   "metadata": {},
   "outputs": [],
   "source": [
    "#J_thetathetaを計算\n",
    "def J_scalescale(h,w,scale,theta):\n",
    "    h,w=int(h/2),int(w/2)\n",
    "    sum=.0\n",
    "    for i in range(-1*h,h):\n",
    "        for j in range(-1*w,w):\n",
    "            #回転の中心は画像の中心になるのでその分の補正を行う\n",
    "            x,y=j,-1*i #y軸の正の方向を向かせる\n",
    "            x_d=int(scale*(np.cos(theta)*x-(np.sin(theta)*y)))\n",
    "            y_d=int(scale*(np.sin(theta)*x+(np.cos(theta)*y)))\n",
    "            dxds=dx_dscale(x_d,y_d,scale,theta)\n",
    "            dyds=dy_dscale(x_d,y_d,scale,theta)\n",
    "            \n",
    "            x,y=x+w,-1*y+h\n",
    "            x_d,y_d=x_d+w,-1*y_d+h\n",
    "            sum+=(i_x_array[x_d][y_d]*dxds+(i_y_array[x_d][y_d]*dyds))*(i_x_array[x_d][y_d]*dxds+(i_y_array[x_d][y_d]*dyds))      \n",
    "\n",
    "    return sum\n",
    "j_ss=J_scalescale(h,w,scale,theta)"
   ]
  },
  {
   "cell_type": "code",
   "execution_count": 78,
   "metadata": {},
   "outputs": [],
   "source": [
    "#J_thetathetaを計算\n",
    "def J_thetascale(h,w,scale,theta):\n",
    "    h,w=int(h/2),int(w/2)\n",
    "    sum=.0\n",
    "    for i in range(-1*h,h):\n",
    "        for j in range(-1*w,w):\n",
    "            #回転の中心は画像の中心になるのでその分の補正を行う\n",
    "            x,y=j,-1*i #y軸の正の方向を向かせる\n",
    "            x_d=int(scale*(np.cos(theta)*x-(np.sin(theta)*y)))\n",
    "            y_d=int(scale*(np.sin(theta)*x+(np.cos(theta)*y)))\n",
    "            dxdt=dx_dtheta(x_d,y_d,scale,theta)\n",
    "            dydt=dy_dtheta(x_d,y_d,scale,theta)\n",
    "            dxds=dx_dscale(x_d,y_d,scale,theta)\n",
    "            dyds=dy_dscale(x_d,y_d,scale,theta)\n",
    "            \n",
    "            x,y=x+w,-1*y+h\n",
    "            x_d,y_d=x_d+w,-1*y_d+h\n",
    "            sum+=(i_x_array[x_d][y_d]*dxdt+(i_y_array[x_d][y_d]*dydt))*(i_x_array[x_d][y_d]*dxds+(i_y_array[x_d][y_d]*dyds))      \n",
    "\n",
    "    return sum\n",
    "j_ts=J_thetascale(h,w,scale,theta)"
   ]
  },
  {
   "cell_type": "code",
   "execution_count": 79,
   "metadata": {},
   "outputs": [
    {
     "data": {
      "text/plain": [
       "array([-0.00119878,  0.00208636])"
      ]
     },
     "execution_count": 79,
     "metadata": {},
     "output_type": "execute_result"
    }
   ],
   "source": [
    "mt=np.array([[j_tt,j_ts],[j_ts,j_ss]])\n",
    "-1*np.linalg.inv(mt).dot(np.array([j_t,j_s]))"
   ]
  },
  {
   "cell_type": "code",
   "execution_count": null,
   "metadata": {},
   "outputs": [],
   "source": []
  }
 ],
 "metadata": {
  "kernelspec": {
   "display_name": "Python 3.9.12 64-bit",
   "language": "python",
   "name": "python3"
  },
  "language_info": {
   "codemirror_mode": {
    "name": "ipython",
    "version": 3
   },
   "file_extension": ".py",
   "mimetype": "text/x-python",
   "name": "python",
   "nbconvert_exporter": "python",
   "pygments_lexer": "ipython3",
   "version": "3.9.12"
  },
  "orig_nbformat": 4,
  "vscode": {
   "interpreter": {
    "hash": "b0fa6594d8f4cbf19f97940f81e996739fb7646882a419484c72d19e05852a7e"
   }
  }
 },
 "nbformat": 4,
 "nbformat_minor": 2
}
